{
  "cells": [
    {
      "cell_type": "markdown",
      "source": "# Setup\n",
      "metadata": {
        "pycharm": {
          "metadata": false,
          "name": "#%% md\n"
        }
      }
    },
    {
      "cell_type": "code",
      "execution_count": 1,
      "metadata": {
        "collapsed": true,
        "pycharm": {
          "is_executing": false
        }
      },
      "outputs": [],
      "source": "from __future__ import absolute_import\nfrom __future__ import division\nfrom __future__ import print_function\n\nimport tensorflow as tf\ntf.enable_eager_execution()\n\nimport numpy as np\nimport IPython.display as display\n\n"
    },
    {
      "cell_type": "markdown",
      "source": "# 1. tf.Example\n## 1.1 Data types for `tf.Example`\nFundamentally a `tf.Example` is a `{\"string\": tf.train.Feature}` mapping.\nThe `tf.train.Feature` message type can accept one of the following three types:\n1. `tf.train.BytesList`\n    * `string`\n    * `byte`\n2. `tf.train.FloatList`\n    * `float(float32)`\n    * `double(float64)`\n3. `tf.train.Int64List`\n    * `bool`\n    * `enum`\n    * `int32`\n    * `uint32`\n    * `int64`\n    * `uint64`\n",
      "metadata": {
        "pycharm": {
          "metadata": false,
          "name": "#%% md\n"
        }
      }
    },
    {
      "cell_type": "code",
      "execution_count": 2,
      "outputs": [],
      "source": "# Each function takes a scalar input value and returns a `tf.train.Feature` \n# containing one of the three `list` types above.\n# The following functions can be used to convert a value to a type compatible\n# with tf.Example.\n\ndef _bytes_feature(value):\n    \"\"\"Returns a bytes_list from a string / byte.\"\"\"\n    return tf.train.Feature(bytes_list\u003dtf.train.BytesList(value\u003d[value]))\n\n\ndef _float_feature(value):\n    \"\"\"Returns a float_list from a float / double.\"\"\"\n    return tf.train.Feature(float_list\u003dtf.train.FloatList(value\u003d[value]))\n\n\ndef _int64_feature(value):\n    \"\"\"Returns an int64_list from a bool / enum / int / uint.\"\"\"\n    return tf.train.Feature(int64_list\u003dtf.train.Int64List(value\u003d[value]))\n\n",
      "metadata": {
        "pycharm": {
          "metadata": false,
          "name": "#%%\n",
          "is_executing": false
        }
      }
    },
    {
      "cell_type": "code",
      "execution_count": 3,
      "outputs": [
        {
          "name": "stdout",
          "text": [
            "bytes_list {\n  value: \"test_string\"\n}\n\nbytes_list {\n  value: \"test_bytes\"\n}\n\nfloat_list {\n  value: 2.7182817459106445\n}\n\nint64_list {\n  value: 1\n}\n\nint64_list {\n  value: 1\n}\n\n"
          ],
          "output_type": "stream"
        }
      ],
      "source": "print(_bytes_feature(b\u0027test_string\u0027))\nprint(_bytes_feature(u\u0027test_bytes\u0027.encode(\u0027utf-8\u0027)))\n\nprint(_float_feature(np.exp(1)))\n\nprint(_int64_feature(True))\nprint(_int64_feature(1))\n",
      "metadata": {
        "pycharm": {
          "metadata": false,
          "name": "#%%\n",
          "is_executing": false
        }
      }
    },
    {
      "cell_type": "code",
      "execution_count": 4,
      "outputs": [
        {
          "data": {
            "text/plain": "b\u0027\\x12\\x06\\n\\x04T\\xf8-@\u0027"
          },
          "metadata": {},
          "output_type": "execute_result",
          "execution_count": 4
        }
      ],
      "source": "feature \u003d _float_feature(np.exp(1))\ntype(feature)\nfeature.SerializeToString()\n",
      "metadata": {
        "pycharm": {
          "metadata": false,
          "name": "#%%\n",
          "is_executing": false
        }
      }
    },
    {
      "cell_type": "markdown",
      "source": "## 1.2 Creating a `tf.Example` message\nIn practice, the dataset may come from anywhere, but the procedure of creating\nthe `tf.Example` message from a single observation will be the same.\n1. Within each observation, each value needs to be converted to a `tf.train.Feature`\ncontaining one of the 3 compatible types, using one of the functions above.\n2. We create a map (dictionary) from the feature name string to the encoded feature \nvalue produced in #1.\n3. The map produced in #2 is converted to a `Features` massage.\n\n\nIn the example, the dataset will have 4 features:\n1. A boolean feature, `False` or `True`;\n2. An integer feature uniformly randomly chosen from `[0, 5)`;\n3. A string feature generated from a string table;\n4. A float feature from a standard normal distribution.\n",
      "metadata": {
        "pycharm": {
          "metadata": false,
          "name": "#%% md\n"
        }
      }
    },
    {
      "cell_type": "code",
      "execution_count": 5,
      "outputs": [],
      "source": "# The number of observations in the dataset.\nn_observations \u003d int(1e4)\n\n# boolean feature, encoded as False or True\nfeature0 \u003d np.random.choice([False, True], n_observations)\n\n# integer feature, random from 0 ... 4\nfeature1 \u003d np.random.randint(0, 5, n_observations)\n\n# string feature\nstrings \u003d np.array([b\u0027cat\u0027, b\u0027dog\u0027, b\u0027chicken\u0027, b\u0027horse\u0027, b\u0027goat\u0027])\nfeature2 \u003d strings[feature1]\n\n# float feature, from a standard normal distribution\nfeature3 \u003d np.random.randn(n_observations)\n\n",
      "metadata": {
        "pycharm": {
          "metadata": false,
          "name": "#%%\n",
          "is_executing": false
        }
      }
    },
    {
      "cell_type": "code",
      "execution_count": 12,
      "outputs": [],
      "source": "def serialize_example(feature0, feature1, feature2, feature3):\n    \"\"\"Creates a tf.Example message ready to be written to a file.\"\"\"\n    # Create a dictionary mapping the feature name to the `tf.Example`-compatible data type.\n    feature \u003d {\u0027feature0\u0027: _int64_feature(feature0),\n                \u0027feature1\u0027: _int64_feature(feature1),\n                \u0027feature2\u0027: _bytes_feature(feature2),\n                \u0027feature3\u0027: _float_feature(feature3)}\n    \n    # Create a Features message using `tf.train.Example`.\n    example_proto \u003d tf.train.Example(features\u003dtf.train.Features(feature\u003dfeature))\n    return example_proto.SerializeToString()\n",
      "metadata": {
        "pycharm": {
          "metadata": false,
          "name": "#%%\n",
          "is_executing": false
        }
      }
    },
    {
      "cell_type": "code",
      "execution_count": 13,
      "outputs": [
        {
          "data": {
            "text/plain": "b\u0027\\nR\\n\\x11\\n\\x08feature0\\x12\\x05\\x1a\\x03\\n\\x01\\x00\\n\\x11\\n\\x08feature1\\x12\\x05\\x1a\\x03\\n\\x01\\x04\\n\\x14\\n\\x08feature2\\x12\\x08\\n\\x06\\n\\x04goat\\n\\x14\\n\\x08feature3\\x12\\x08\\x12\\x06\\n\\x04[\\xd3|?\u0027"
          },
          "metadata": {},
          "output_type": "execute_result",
          "execution_count": 13
        }
      ],
      "source": "_serialize_example \u003d serialize_example(False, 4, b\"goat\", 0.9876)\n_serialize_example\n",
      "metadata": {
        "pycharm": {
          "metadata": false,
          "name": "#%%\n",
          "is_executing": false
        }
      }
    },
    {
      "cell_type": "markdown",
      "source": "To decode the message use the `tf.train.Example.FromString` method.\n",
      "metadata": {
        "pycharm": {
          "metadata": false,
          "name": "#%% md\n"
        }
      }
    },
    {
      "cell_type": "code",
      "execution_count": 14,
      "outputs": [
        {
          "data": {
            "text/plain": "features {\n  feature {\n    key: \"feature0\"\n    value {\n      int64_list {\n        value: 0\n      }\n    }\n  }\n  feature {\n    key: \"feature1\"\n    value {\n      int64_list {\n        value: 4\n      }\n    }\n  }\n  feature {\n    key: \"feature2\"\n    value {\n      bytes_list {\n        value: \"goat\"\n      }\n    }\n  }\n  feature {\n    key: \"feature3\"\n    value {\n      float_list {\n        value: 0.9876000285148621\n      }\n    }\n  }\n}"
          },
          "metadata": {},
          "output_type": "execute_result",
          "execution_count": 14
        }
      ],
      "source": "example_proto \u003d tf.train.Example.FromString(_serialize_example)\nexample_proto\n",
      "metadata": {
        "pycharm": {
          "metadata": false,
          "name": "#%%\n",
          "is_executing": false
        }
      }
    },
    {
      "cell_type": "markdown",
      "source": "# 2. TFRecord files using `tf.data`\nThe `tf.data` module also provides tools for reading and writing data in tensorflow.\n",
      "metadata": {
        "pycharm": {
          "metadata": false,
          "name": "#%% md\n"
        }
      }
    },
    {
      "cell_type": "markdown",
      "source": "## 2.1 Writing a TFRecord file\nTHe easiest way to get the data into a dataset is to use the `from_tensor_slices` method.\n\n",
      "metadata": {
        "pycharm": {
          "metadata": false,
          "name": "#%% md\n"
        }
      }
    },
    {
      "cell_type": "code",
      "execution_count": 20,
      "outputs": [],
      "source": "# Applied to an array, it returns a dataset of scalars.\nfeature1_ds \u003d tf.data.Dataset.from_tensor_slices(feature1)\n\n# Applied to a tuple of arrays, it returns a dataset of tuples:\nfeatures_dataset \u003d tf.data.Dataset.from_tensor_slices((feature0, feature1, feature2, feature3))\n",
      "metadata": {
        "pycharm": {
          "metadata": false,
          "name": "#%%\n",
          "is_executing": false
        }
      }
    },
    {
      "cell_type": "code",
      "execution_count": 22,
      "outputs": [
        {
          "name": "stdout",
          "text": [
            "tf.Tensor(False, shape\u003d(), dtype\u003dbool)\ntf.Tensor(3, shape\u003d(), dtype\u003dint64)\ntf.Tensor(b\u0027horse\u0027, shape\u003d(), dtype\u003dstring)\ntf.Tensor(-1.2120519723026093, shape\u003d(), dtype\u003dfloat64)\ntf.Tensor(True, shape\u003d(), dtype\u003dbool)\ntf.Tensor(2, shape\u003d(), dtype\u003dint64)\ntf.Tensor(b\u0027chicken\u0027, shape\u003d(), dtype\u003dstring)\ntf.Tensor(0.5513744864195331, shape\u003d(), dtype\u003dfloat64)\n"
          ],
          "output_type": "stream"
        }
      ],
      "source": "# Use `take(1) to only pull one example from the dataset.\nfor f0, f1, f2, f3 in features_dataset.take(2):\n    print(f0)\n    print(f1)\n    print(f2)\n    print(f3)\n    ",
      "metadata": {
        "pycharm": {
          "metadata": false,
          "name": "#%%\n",
          "is_executing": false
        }
      }
    },
    {
      "cell_type": "code",
      "execution_count": 24,
      "outputs": [],
      "source": "# Use the `tf.data.Dataset.map` method to apply a function to each element of a `Dataset`.\n# The mapped function must operate in TensorFlow graph mode: It must operate on and return `tf.Tensors`.\ndef tf_serialize_example(f0,f1,f2,f3):\n    tf_string \u003d tf.py_func(\n        serialize_example, \n        (f0,f1,f2,f3),  # pass these args to the above function.\n        tf.string)      # the return type is \u003ca href\u003d\"../../api_docs/python/tf#string\"\u003e\u003ccode\u003etf.string\u003c/code\u003e\u003c/a\u003e.\n    return tf.reshape(tf_string, ()) # The result is a scalar\n",
      "metadata": {
        "pycharm": {
          "metadata": false,
          "name": "#%% \n",
          "is_executing": false
        }
      }
    },
    {
      "cell_type": "code",
      "execution_count": 25,
      "outputs": [
        {
          "data": {
            "text/plain": "\u003cMapDataset shapes: (), types: tf.string\u003e"
          },
          "metadata": {},
          "output_type": "execute_result",
          "execution_count": 25
        }
      ],
      "source": "serialized_features_dataset \u003d features_dataset.map(tf_serialize_example)\nserialized_features_dataset\n",
      "metadata": {
        "pycharm": {
          "metadata": false,
          "name": "#%%\n",
          "is_executing": false
        }
      }
    },
    {
      "cell_type": "code",
      "execution_count": 27,
      "outputs": [],
      "source": "# Write them to a `TFRecord` file:\nfilename \u003d \u0027test.tfrecord\u0027\nwriter \u003d tf.contrib.data.TFRecordWriter(filename)\nwriter.write(serialized_features_dataset)\n",
      "metadata": {
        "pycharm": {
          "metadata": false,
          "name": "#%%\n",
          "is_executing": false
        }
      }
    },
    {
      "cell_type": "markdown",
      "source": "## 2.2 Reading a TFrecord file\n",
      "metadata": {
        "pycharm": {
          "metadata": false,
          "name": "#%% md\n"
        }
      }
    },
    {
      "cell_type": "code",
      "execution_count": 28,
      "outputs": [
        {
          "data": {
            "text/plain": "\u003cTFRecordDataset shapes: (), types: tf.string\u003e"
          },
          "metadata": {},
          "output_type": "execute_result",
          "execution_count": 28
        }
      ],
      "source": "filenames \u003d [filename]\nraw_dataset \u003d tf.data.TFRecordDataset(filenames)\nraw_dataset\n\n",
      "metadata": {
        "pycharm": {
          "metadata": false,
          "name": "#%%\n",
          "is_executing": false
        }
      }
    },
    {
      "cell_type": "code",
      "execution_count": 29,
      "outputs": [
        {
          "name": "stdout",
          "text": [
            "\u003ctf.Tensor: id\u003d132, shape\u003d(), dtype\u003dstring, numpy\u003db\u0027\\nS\\n\\x11\\n\\x08feature1\\x12\\x05\\x1a\\x03\\n\\x01\\x03\\n\\x15\\n\\x08feature2\\x12\\t\\n\\x07\\n\\x05horse\\n\\x14\\n\\x08feature3\\x12\\x08\\x12\\x06\\n\\x04\\x85$\\x9b\\xbf\\n\\x11\\n\\x08feature0\\x12\\x05\\x1a\\x03\\n\\x01\\x00\u0027\u003e\n\u003ctf.Tensor: id\u003d134, shape\u003d(), dtype\u003dstring, numpy\u003db\u0027\\nU\\n\\x11\\n\\x08feature1\\x12\\x05\\x1a\\x03\\n\\x01\\x02\\n\\x17\\n\\x08feature2\\x12\\x0b\\n\\t\\n\\x07chicken\\n\\x14\\n\\x08feature3\\x12\\x08\\x12\\x06\\n\\x04\\xe1\u0026\\r?\\n\\x11\\n\\x08feature0\\x12\\x05\\x1a\\x03\\n\\x01\\x01\u0027\u003e\n\u003ctf.Tensor: id\u003d136, shape\u003d(), dtype\u003dstring, numpy\u003db\u0027\\nS\\n\\x11\\n\\x08feature0\\x12\\x05\\x1a\\x03\\n\\x01\\x00\\n\\x11\\n\\x08feature1\\x12\\x05\\x1a\\x03\\n\\x01\\x03\\n\\x15\\n\\x08feature2\\x12\\t\\n\\x07\\n\\x05horse\\n\\x14\\n\\x08feature3\\x12\\x08\\x12\\x06\\n\\x04\\x13\\x08\\xc2\\xbf\u0027\u003e\n\u003ctf.Tensor: id\u003d138, shape\u003d(), dtype\u003dstring, numpy\u003db\u0027\\nR\\n\\x14\\n\\x08feature2\\x12\\x08\\n\\x06\\n\\x04goat\\n\\x14\\n\\x08feature3\\x12\\x08\\x12\\x06\\n\\x04\\rS\\xdb\\xbf\\n\\x11\\n\\x08feature0\\x12\\x05\\x1a\\x03\\n\\x01\\x00\\n\\x11\\n\\x08feature1\\x12\\x05\\x1a\\x03\\n\\x01\\x04\u0027\u003e\n\u003ctf.Tensor: id\u003d140, shape\u003d(), dtype\u003dstring, numpy\u003db\u0027\\nQ\\n\\x11\\n\\x08feature0\\x12\\x05\\x1a\\x03\\n\\x01\\x00\\n\\x11\\n\\x08feature1\\x12\\x05\\x1a\\x03\\n\\x01\\x01\\n\\x13\\n\\x08feature2\\x12\\x07\\n\\x05\\n\\x03dog\\n\\x14\\n\\x08feature3\\x12\\x08\\x12\\x06\\n\\x04}(\\xad\\xbe\u0027\u003e\n\u003ctf.Tensor: id\u003d142, shape\u003d(), dtype\u003dstring, numpy\u003db\u0027\\nU\\n\\x11\\n\\x08feature0\\x12\\x05\\x1a\\x03\\n\\x01\\x00\\n\\x11\\n\\x08feature1\\x12\\x05\\x1a\\x03\\n\\x01\\x02\\n\\x17\\n\\x08feature2\\x12\\x0b\\n\\t\\n\\x07chicken\\n\\x14\\n\\x08feature3\\x12\\x08\\x12\\x06\\n\\x04\\x91\\x8fC?\u0027\u003e\n\u003ctf.Tensor: id\u003d144, shape\u003d(), dtype\u003dstring, numpy\u003db\u0027\\nS\\n\\x14\\n\\x08feature3\\x12\\x08\\x12\\x06\\n\\x04r\\xa3j\\xbf\\n\\x11\\n\\x08feature0\\x12\\x05\\x1a\\x03\\n\\x01\\x00\\n\\x11\\n\\x08feature1\\x12\\x05\\x1a\\x03\\n\\x01\\x03\\n\\x15\\n\\x08feature2\\x12\\t\\n\\x07\\n\\x05horse\u0027\u003e\n\u003ctf.Tensor: id\u003d146, shape\u003d(), dtype\u003dstring, numpy\u003db\u0027\\nU\\n\\x11\\n\\x08feature0\\x12\\x05\\x1a\\x03\\n\\x01\\x01\\n\\x11\\n\\x08feature1\\x12\\x05\\x1a\\x03\\n\\x01\\x02\\n\\x17\\n\\x08feature2\\x12\\x0b\\n\\t\\n\\x07chicken\\n\\x14\\n\\x08feature3\\x12\\x08\\x12\\x06\\n\\x04_\\xe5,\\xbf\u0027\u003e\n\u003ctf.Tensor: id\u003d148, shape\u003d(), dtype\u003dstring, numpy\u003db\u0027\\nR\\n\\x14\\n\\x08feature2\\x12\\x08\\n\\x06\\n\\x04goat\\n\\x14\\n\\x08feature3\\x12\\x08\\x12\\x06\\n\\x04%\\xd7\\xea?\\n\\x11\\n\\x08feature0\\x12\\x05\\x1a\\x03\\n\\x01\\x00\\n\\x11\\n\\x08feature1\\x12\\x05\\x1a\\x03\\n\\x01\\x04\u0027\u003e\n\u003ctf.Tensor: id\u003d150, shape\u003d(), dtype\u003dstring, numpy\u003db\u0027\\nU\\n\\x11\\n\\x08feature0\\x12\\x05\\x1a\\x03\\n\\x01\\x00\\n\\x11\\n\\x08feature1\\x12\\x05\\x1a\\x03\\n\\x01\\x02\\n\\x17\\n\\x08feature2\\x12\\x0b\\n\\t\\n\\x07chicken\\n\\x14\\n\\x08feature3\\x12\\x08\\x12\\x06\\n\\x04\\x12\\xc0\\xa5\\xbf\u0027\u003e\n"
          ],
          "output_type": "stream"
        }
      ],
      "source": "for raw_record in raw_dataset.take(10):\n    print(repr(raw_record))\n",
      "metadata": {
        "pycharm": {
          "metadata": false,
          "name": "#%%\n",
          "is_executing": false
        }
      }
    },
    {
      "cell_type": "code",
      "execution_count": 30,
      "outputs": [
        {
          "data": {
            "text/plain": "\u003cMapDataset shapes: {feature1: (), feature0: (), feature3: (), feature2: ()}, types: {feature1: tf.int64, feature0: tf.int64, feature3: tf.float32, feature2: tf.string}\u003e"
          },
          "metadata": {},
          "output_type": "execute_result",
          "execution_count": 30
        }
      ],
      "source": "# These tensors can be parsed using the function below.\n# Create a description of the features.  \nfeature_description \u003d {\n    \u0027feature0\u0027: tf.FixedLenFeature([], tf.int64, default_value\u003d0),\n    \u0027feature1\u0027: tf.FixedLenFeature([], tf.int64, default_value\u003d0),\n    \u0027feature2\u0027: tf.FixedLenFeature([], tf.string, default_value\u003d\u0027\u0027),\n    \u0027feature3\u0027: tf.FixedLenFeature([], tf.float32, default_value\u003d0.0),\n}\n\n\ndef _parse_function(_example_proto):\n    # Parse the input tf.Example proto using the dictionary above.\n    return tf.parse_single_example(_example_proto, feature_description)\n\n\nparsed_dataset \u003d raw_dataset.map(_parse_function)\nparsed_dataset \n",
      "metadata": {
        "pycharm": {
          "metadata": false,
          "name": "#%%\n",
          "is_executing": false
        }
      }
    },
    {
      "cell_type": "code",
      "execution_count": 31,
      "outputs": [
        {
          "name": "stdout",
          "text": [
            "{\u0027feature1\u0027: \u003ctf.Tensor: id\u003d197, shape\u003d(), dtype\u003dint64, numpy\u003d3\u003e, \u0027feature0\u0027: \u003ctf.Tensor: id\u003d196, shape\u003d(), dtype\u003dint64, numpy\u003d0\u003e, \u0027feature3\u0027: \u003ctf.Tensor: id\u003d199, shape\u003d(), dtype\u003dfloat32, numpy\u003d-1.212052\u003e, \u0027feature2\u0027: \u003ctf.Tensor: id\u003d198, shape\u003d(), dtype\u003dstring, numpy\u003db\u0027horse\u0027\u003e}\n{\u0027feature1\u0027: \u003ctf.Tensor: id\u003d205, shape\u003d(), dtype\u003dint64, numpy\u003d2\u003e, \u0027feature0\u0027: \u003ctf.Tensor: id\u003d204, shape\u003d(), dtype\u003dint64, numpy\u003d1\u003e, \u0027feature3\u0027: \u003ctf.Tensor: id\u003d207, shape\u003d(), dtype\u003dfloat32, numpy\u003d0.5513745\u003e, \u0027feature2\u0027: \u003ctf.Tensor: id\u003d206, shape\u003d(), dtype\u003dstring, numpy\u003db\u0027chicken\u0027\u003e}\n{\u0027feature1\u0027: \u003ctf.Tensor: id\u003d213, shape\u003d(), dtype\u003dint64, numpy\u003d3\u003e, \u0027feature0\u0027: \u003ctf.Tensor: id\u003d212, shape\u003d(), dtype\u003dint64, numpy\u003d0\u003e, \u0027feature3\u0027: \u003ctf.Tensor: id\u003d215, shape\u003d(), dtype\u003dfloat32, numpy\u003d-1.5158714\u003e, \u0027feature2\u0027: \u003ctf.Tensor: id\u003d214, shape\u003d(), dtype\u003dstring, numpy\u003db\u0027horse\u0027\u003e}\n{\u0027feature1\u0027: \u003ctf.Tensor: id\u003d221, shape\u003d(), dtype\u003dint64, numpy\u003d4\u003e, \u0027feature0\u0027: \u003ctf.Tensor: id\u003d220, shape\u003d(), dtype\u003dint64, numpy\u003d0\u003e, \u0027feature3\u0027: \u003ctf.Tensor: id\u003d223, shape\u003d(), dtype\u003dfloat32, numpy\u003d-1.713472\u003e, \u0027feature2\u0027: \u003ctf.Tensor: id\u003d222, shape\u003d(), dtype\u003dstring, numpy\u003db\u0027goat\u0027\u003e}\n{\u0027feature1\u0027: \u003ctf.Tensor: id\u003d229, shape\u003d(), dtype\u003dint64, numpy\u003d1\u003e, \u0027feature0\u0027: \u003ctf.Tensor: id\u003d228, shape\u003d(), dtype\u003dint64, numpy\u003d0\u003e, \u0027feature3\u0027: \u003ctf.Tensor: id\u003d231, shape\u003d(), dtype\u003dfloat32, numpy\u003d-0.33819953\u003e, \u0027feature2\u0027: \u003ctf.Tensor: id\u003d230, shape\u003d(), dtype\u003dstring, numpy\u003db\u0027dog\u0027\u003e}\n{\u0027feature1\u0027: \u003ctf.Tensor: id\u003d237, shape\u003d(), dtype\u003dint64, numpy\u003d2\u003e, \u0027feature0\u0027: \u003ctf.Tensor: id\u003d236, shape\u003d(), dtype\u003dint64, numpy\u003d0\u003e, \u0027feature3\u0027: \u003ctf.Tensor: id\u003d239, shape\u003d(), dtype\u003dfloat32, numpy\u003d0.7639094\u003e, \u0027feature2\u0027: \u003ctf.Tensor: id\u003d238, shape\u003d(), dtype\u003dstring, numpy\u003db\u0027chicken\u0027\u003e}\n{\u0027feature1\u0027: \u003ctf.Tensor: id\u003d245, shape\u003d(), dtype\u003dint64, numpy\u003d3\u003e, \u0027feature0\u0027: \u003ctf.Tensor: id\u003d244, shape\u003d(), dtype\u003dint64, numpy\u003d0\u003e, \u0027feature3\u0027: \u003ctf.Tensor: id\u003d247, shape\u003d(), dtype\u003dfloat32, numpy\u003d-0.9165565\u003e, \u0027feature2\u0027: \u003ctf.Tensor: id\u003d246, shape\u003d(), dtype\u003dstring, numpy\u003db\u0027horse\u0027\u003e}\n{\u0027feature1\u0027: \u003ctf.Tensor: id\u003d253, shape\u003d(), dtype\u003dint64, numpy\u003d2\u003e, \u0027feature0\u0027: \u003ctf.Tensor: id\u003d252, shape\u003d(), dtype\u003dint64, numpy\u003d1\u003e, \u0027feature3\u0027: \u003ctf.Tensor: id\u003d255, shape\u003d(), dtype\u003dfloat32, numpy\u003d-0.6753749\u003e, \u0027feature2\u0027: \u003ctf.Tensor: id\u003d254, shape\u003d(), dtype\u003dstring, numpy\u003db\u0027chicken\u0027\u003e}\n{\u0027feature1\u0027: \u003ctf.Tensor: id\u003d261, shape\u003d(), dtype\u003dint64, numpy\u003d4\u003e, \u0027feature0\u0027: \u003ctf.Tensor: id\u003d260, shape\u003d(), dtype\u003dint64, numpy\u003d0\u003e, \u0027feature3\u0027: \u003ctf.Tensor: id\u003d263, shape\u003d(), dtype\u003dfloat32, numpy\u003d1.8346907\u003e, \u0027feature2\u0027: \u003ctf.Tensor: id\u003d262, shape\u003d(), dtype\u003dstring, numpy\u003db\u0027goat\u0027\u003e}\n{\u0027feature1\u0027: \u003ctf.Tensor: id\u003d269, shape\u003d(), dtype\u003dint64, numpy\u003d2\u003e, \u0027feature0\u0027: \u003ctf.Tensor: id\u003d268, shape\u003d(), dtype\u003dint64, numpy\u003d0\u003e, \u0027feature3\u0027: \u003ctf.Tensor: id\u003d271, shape\u003d(), dtype\u003dfloat32, numpy\u003d-1.294924\u003e, \u0027feature2\u0027: \u003ctf.Tensor: id\u003d270, shape\u003d(), dtype\u003dstring, numpy\u003db\u0027chicken\u0027\u003e}\n"
          ],
          "output_type": "stream"
        }
      ],
      "source": "for parsed_record in parsed_dataset.take(10):\n    print(repr(parsed_record))\n",
      "metadata": {
        "pycharm": {
          "metadata": false,
          "name": "#%%\n",
          "is_executing": false
        }
      }
    },
    {
      "cell_type": "markdown",
      "source": "# 3. TFRecord files using `tf.python_io`\n",
      "metadata": {
        "pycharm": {
          "metadata": false,
          "name": "#%% md\n"
        }
      }
    },
    {
      "cell_type": "markdown",
      "source": "# 4. Walkthrough: Reading/Writing Image data\n",
      "metadata": {
        "pycharm": {
          "metadata": false,
          "name": "#%% md\n"
        }
      }
    }
  ],
  "metadata": {
    "language_info": {
      "codemirror_mode": {
        "name": "ipython",
        "version": 2
      },
      "file_extension": ".py",
      "mimetype": "text/x-python",
      "name": "python",
      "nbconvert_exporter": "python",
      "pygments_lexer": "ipython2",
      "version": "2.7.6"
    },
    "kernelspec": {
      "name": "pycharm-c88da62c",
      "language": "python",
      "display_name": "PyCharm (Tensorflow_Tutorials)"
    },
    "stem_cell": {
      "cell_type": "raw",
      "source": "",
      "metadata": {
        "pycharm": {
          "metadata": false
        }
      }
    }
  },
  "nbformat": 4,
  "nbformat_minor": 0
}